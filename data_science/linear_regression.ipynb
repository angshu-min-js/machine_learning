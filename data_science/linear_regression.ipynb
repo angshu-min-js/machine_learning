{
 "cells": [
  {
   "cell_type": "code",
   "execution_count": 5,
   "metadata": {
    "collapsed": false
   },
   "outputs": [
    {
     "ename": "IndentationError",
     "evalue": "unindent does not match any outer indentation level (<ipython-input-5-948229047f4b>, line 36)",
     "output_type": "error",
     "traceback": [
      "\u001b[1;36m  File \u001b[1;32m\"<ipython-input-5-948229047f4b>\"\u001b[1;36m, line \u001b[1;32m36\u001b[0m\n\u001b[1;33m    m = len(values)\u001b[0m\n\u001b[1;37m                   ^\u001b[0m\n\u001b[1;31mIndentationError\u001b[0m\u001b[1;31m:\u001b[0m unindent does not match any outer indentation level\n"
     ]
    }
   ],
   "source": [
    "import numpy\n",
    "import pandas\n",
    "\n",
    "def normalize_features(array):\n",
    "    \"\"\"\n",
    "    Normalize the features in our data set.\n",
    "    \"\"\"\n",
    "    array_normalized = (array - array.mean())/array.std()\n",
    "    mu = array.mean()\n",
    "    sigma = array.std()\n",
    "\n",
    "    return array_normalized, mu, sigma\n",
    "\n",
    "\n",
    "def compute_cost(features, values, theta):\n",
    "    \"\"\"\n",
    "    Compute the cost function given a set of features / values, and values for our thetas.\n",
    "    \"\"\"\n",
    "    m = len(values)\n",
    "    sum_of_square_errors = numpy.square(numpy.dot(features, theta) - values).sum()\n",
    "    cost = sum_of_square_errors / (2*m)\n",
    "\n",
    "    return cost\n",
    "\n",
    "def gradient_descent(features, values, theta, alpha, num_iterations):\n",
    "     \"\"\"\n",
    "    Perform gradient descent given a data set with an arbitrary number of features.\n",
    "    \"\"\"\n",
    "\n",
    "    # Write some code here that updates the values of theta a number of times equal to\n",
    "    # num_iterations.  Everytime you have computed the cost for a given set of thetas,\n",
    "    # you should append it to cost_history.  The function should return both the final\n",
    "    # values of theta and the cost history.\n",
    "\n",
    "    # YOUR CODE GOES HERE\n",
    "    m = len(values)\n",
    "    cost_history = []\n",
    "    for e in range(0,num_iterations):\n",
    "        J = compute_cost(features,values,theta)\n",
    "        cost_history.append(J)\n",
    "        H = numpy.dot(features,theta)\n",
    "        GD = (alpha/m)*numpy.dot((values - H),features)\n",
    "        theta = numpy.add(theta,GD)\n",
    "\n",
    "if __name__ == '__main__':\n",
    "\n",
    "    # Read data into a pandas dataframe.\n",
    "    data = pandas.read_csv('baseball_stats_regression.csv')\n",
    "\n",
    "    # Isolate features / values.\n",
    "    features = data[['height', 'weight']]\n",
    "    values = data[['HR']]\n",
    "    m = len(values)\n",
    "\n",
    "    # Normalize features.\n",
    "    features, mu, sigma = normalize_features(features)\n",
    "\n",
    "    # Add a column of ones to features for constant term.\n",
    "    features['ones'] = numpy.ones(m)\n",
    "    features_array = numpy.array(features[['ones', 'height', 'weight']])\n",
    "    values_array = numpy.array(values).flatten()\n",
    "\n",
    "    # Set values for alpha, number of iterations.\n",
    "    alpha = 0.01\n",
    "    num_iterations = 1000\n",
    "\n",
    "    # Initialize theta and perform gradient descent.\n",
    "    theta_gradient_descent = numpy.zeros(3)\n",
    "    theta_gradient_descent, cost_history = gradient_descent(features_array, values_array, theta_gradient_descent,\n",
    "                                                            alpha, num_iterations)\n",
    "\n",
    "    print \"Theta =\\n{theta}\\n\\nCost History = \\n{history}\".format(theta=theta_gradient_descent, history=cost_history)"
   ]
  },
  {
   "cell_type": "code",
   "execution_count": null,
   "metadata": {
    "collapsed": true
   },
   "outputs": [],
   "source": []
  }
 ],
 "metadata": {
  "kernelspec": {
   "display_name": "Python 2",
   "language": "python",
   "name": "python2"
  },
  "language_info": {
   "codemirror_mode": {
    "name": "ipython",
    "version": 2
   },
   "file_extension": ".py",
   "mimetype": "text/x-python",
   "name": "python",
   "nbconvert_exporter": "python",
   "pygments_lexer": "ipython2",
   "version": "2.7.6"
  }
 },
 "nbformat": 4,
 "nbformat_minor": 0
}
