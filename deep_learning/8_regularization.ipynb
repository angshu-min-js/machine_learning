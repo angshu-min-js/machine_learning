{
 "cells": [
  {
   "cell_type": "markdown",
   "metadata": {
    "colab_type": "text",
    "id": "kR-4eNdK6lYS"
   },
   "source": [
    "Deep Learning\n",
    "=============\n",
    "\n",
    "Assignment 3\n",
    "------------\n",
    "\n",
    "Previously in `2_fullyconnected.ipynb`, you trained a logistic regression and a neural network model.\n",
    "\n",
    "The goal of this assignment is to explore regularization techniques."
   ]
  },
  {
   "cell_type": "code",
   "execution_count": 1,
   "metadata": {
    "cellView": "both",
    "colab": {
     "autoexec": {
      "startup": false,
      "wait_interval": 0
     }
    },
    "colab_type": "code",
    "collapsed": false,
    "id": "JLpLa8Jt7Vu4"
   },
   "outputs": [
    {
     "name": "stderr",
     "output_type": "stream",
     "text": [
      "/usr/local/lib/python2.7/dist-packages/sklearn/cross_validation.py:44: DeprecationWarning: This module was deprecated in version 0.18 in favor of the model_selection module into which all the refactored classes and functions are moved. Also note that the interface of the new CV iterators are different from that of this module. This module will be removed in 0.20.\n",
      "  \"This module will be removed in 0.20.\", DeprecationWarning)\n"
     ]
    }
   ],
   "source": [
    "# These are all the modules we'll be using later. Make sure you can import them\n",
    "# before proceeding further.\n",
    "from __future__ import print_function\n",
    "import numpy as np\n",
    "import tensorflow as tf\n",
    "from six.moves import cPickle as pickle"
   ]
  },
  {
   "cell_type": "markdown",
   "metadata": {
    "colab_type": "text",
    "id": "1HrCK6e17WzV"
   },
   "source": [
    "First reload the data we generated in _notmist.ipynb_."
   ]
  },
  {
   "cell_type": "code",
   "execution_count": 2,
   "metadata": {
    "cellView": "both",
    "colab": {
     "autoexec": {
      "startup": false,
      "wait_interval": 0
     },
     "output_extras": [
      {
       "item_id": 1
      }
     ]
    },
    "colab_type": "code",
    "collapsed": false,
    "executionInfo": {
     "elapsed": 11777,
     "status": "ok",
     "timestamp": 1449849322348,
     "user": {
      "color": "",
      "displayName": "",
      "isAnonymous": false,
      "isMe": true,
      "permissionId": "",
      "photoUrl": "",
      "sessionId": "0",
      "userId": ""
     },
     "user_tz": 480
    },
    "id": "y3-cj1bpmuxc",
    "outputId": "e03576f1-ebbe-4838-c388-f1777bcc9873"
   },
   "outputs": [
    {
     "name": "stdout",
     "output_type": "stream",
     "text": [
      "Training set (200000, 28, 28) (200000,)\n",
      "Validation set (10000, 28, 28) (10000,)\n",
      "Test set (10000, 28, 28) (10000,)\n"
     ]
    }
   ],
   "source": [
    "pickle_file = 'notMNIST.pickle'\n",
    "\n",
    "with open(pickle_file, 'rb') as f:\n",
    "  save = pickle.load(f)\n",
    "  train_dataset = save['train_dataset']\n",
    "  train_labels = save['train_labels']\n",
    "  valid_dataset = save['valid_dataset']\n",
    "  valid_labels = save['valid_labels']\n",
    "  test_dataset = save['test_dataset']\n",
    "  test_labels = save['test_labels']\n",
    "  del save  # hint to help gc free up memory\n",
    "  print('Training set', train_dataset.shape, train_labels.shape)\n",
    "  print('Validation set', valid_dataset.shape, valid_labels.shape)\n",
    "  print('Test set', test_dataset.shape, test_labels.shape)"
   ]
  },
  {
   "cell_type": "markdown",
   "metadata": {
    "colab_type": "text",
    "id": "L7aHrm6nGDMB"
   },
   "source": [
    "Reformat into a shape that's more adapted to the models we're going to train:\n",
    "- data as a flat matrix,\n",
    "- labels as float 1-hot encodings."
   ]
  },
  {
   "cell_type": "code",
   "execution_count": 3,
   "metadata": {
    "cellView": "both",
    "colab": {
     "autoexec": {
      "startup": false,
      "wait_interval": 0
     },
     "output_extras": [
      {
       "item_id": 1
      }
     ]
    },
    "colab_type": "code",
    "collapsed": false,
    "executionInfo": {
     "elapsed": 11728,
     "status": "ok",
     "timestamp": 1449849322356,
     "user": {
      "color": "",
      "displayName": "",
      "isAnonymous": false,
      "isMe": true,
      "permissionId": "",
      "photoUrl": "",
      "sessionId": "0",
      "userId": ""
     },
     "user_tz": 480
    },
    "id": "IRSyYiIIGIzS",
    "outputId": "3f8996ee-3574-4f44-c953-5c8a04636582"
   },
   "outputs": [
    {
     "name": "stdout",
     "output_type": "stream",
     "text": [
      "Training set (200000, 784) (200000, 10)\n",
      "Validation set (10000, 784) (10000, 10)\n",
      "Test set (10000, 784) (10000, 10)\n"
     ]
    }
   ],
   "source": [
    "image_size = 28\n",
    "num_labels = 10\n",
    "\n",
    "def reformat(dataset, labels):\n",
    "  dataset = dataset.reshape((-1, image_size * image_size)).astype(np.float32)\n",
    "  # Map 2 to [0.0, 1.0, 0.0 ...], 3 to [0.0, 0.0, 1.0 ...]\n",
    "  labels = (np.arange(num_labels) == labels[:,None]).astype(np.float32)\n",
    "  return dataset, labels\n",
    "train_dataset, train_labels = reformat(train_dataset, train_labels)\n",
    "valid_dataset, valid_labels = reformat(valid_dataset, valid_labels)\n",
    "test_dataset, test_labels = reformat(test_dataset, test_labels)\n",
    "print('Training set', train_dataset.shape, train_labels.shape)\n",
    "print('Validation set', valid_dataset.shape, valid_labels.shape)\n",
    "print('Test set', test_dataset.shape, test_labels.shape)"
   ]
  },
  {
   "cell_type": "code",
   "execution_count": 4,
   "metadata": {
    "cellView": "both",
    "colab": {
     "autoexec": {
      "startup": false,
      "wait_interval": 0
     }
    },
    "colab_type": "code",
    "collapsed": true,
    "id": "RajPLaL_ZW6w"
   },
   "outputs": [],
   "source": [
    "def accuracy(predictions, labels):\n",
    "  return (100.0 * np.sum(np.argmax(predictions, 1) == np.argmax(labels, 1))\n",
    "          / predictions.shape[0])"
   ]
  },
  {
   "cell_type": "markdown",
   "metadata": {
    "colab_type": "text",
    "id": "sgLbUAQ1CW-1"
   },
   "source": [
    "---\n",
    "Problem 1\n",
    "---------\n",
    "\n",
    "Introduce and tune L2 regularization for both logistic and neural network models. Remember that L2 amounts to adding a penalty on the norm of the weights to the loss. In TensorFlow, you can compute the L2 loss for a tensor `t` using `nn.l2_loss(t)`. The right amount of regularization should improve your validation / test accuracy.\n",
    "\n",
    "---"
   ]
  },
  {
   "cell_type": "code",
   "execution_count": 5,
   "metadata": {
    "collapsed": false
   },
   "outputs": [
    {
     "name": "stdout",
     "output_type": "stream",
     "text": [
      "Initialized\n",
      "Minibatch loss at step 0 : 18.7838\n",
      "Minibatch accuracy: 8.6%\n",
      "Validation accuracy: 11.2%\n",
      "Minibatch loss at step 500 : 2.90808\n",
      "Minibatch accuracy: 74.2%\n",
      "Validation accuracy: 75.3%\n",
      "Minibatch loss at step 1000 : 1.77997\n",
      "Minibatch accuracy: 78.1%\n",
      "Validation accuracy: 77.8%\n",
      "Test accuracy: 85.2%\n"
     ]
    }
   ],
   "source": [
    "batch_size = 128\n",
    "hidden_nodes = 1024\n",
    "graph = tf.Graph()\n",
    "with graph.as_default():\n",
    "\n",
    "  # Input data. For the training data, we use a placeholder that will be fed\n",
    "  # at run time with a training minibatch.\n",
    "  tf_train_dataset = tf.placeholder(tf.float32,shape=(batch_size, image_size * image_size))\n",
    "  tf_train_labels = tf.placeholder(tf.float32, shape=(batch_size, num_labels))\n",
    "  tf_valid_dataset = tf.constant(valid_dataset)\n",
    "  tf_test_dataset = tf.constant(test_dataset)\n",
    "\n",
    "  # Hidden Layer, Variables.\n",
    "  weights = tf.Variable(tf.truncated_normal([image_size * image_size, num_labels]))\n",
    "  biases = tf.Variable(tf.zeros([num_labels]))\n",
    "\n",
    "  # RELU\n",
    "  # relu = tf.nn.relu(tf.matmul(tf_train_dataset, weights_hidden) + biases_hidden)\n",
    "\n",
    "  # Output layer\n",
    "  # weights_output = tf.Variable(tf.truncated_normal([hidden_nodes, num_labels]))\n",
    "  # biases_output = tf.Variable(tf.zeros([num_labels]))\n",
    "\n",
    "  # Training computation, regularization\n",
    "  logits = tf.matmul(tf_train_dataset, weights) + biases\n",
    "  regularization = tf.nn.l2_loss(weights) + tf.nn.l2_loss(biases)\n",
    "  loss = tf.reduce_mean(tf.nn.softmax_cross_entropy_with_logits(logits, tf_train_labels)) + 0.001 * regularization\n",
    "\n",
    "  # Optimizer.\n",
    "  optimizer = tf.train.GradientDescentOptimizer(0.5).minimize(loss)\n",
    "\n",
    " # Predictions for the training, validation, and test data.\n",
    "  train_prediction = tf.nn.softmax(logits)\n",
    "  valid_prediction = tf.nn.softmax(tf.matmul(tf_valid_dataset, weights) + biases)\n",
    "  test_prediction = tf.nn.softmax(tf.matmul(tf_test_dataset, weights) + biases)\n",
    "    \n",
    "#train\n",
    "def train(num_steps, batch_size):\n",
    "  with tf.Session(graph=graph) as session:\n",
    "    tf.initialize_all_variables().run()\n",
    "    print (\"Initialized\")\n",
    "    for step in xrange(num_steps):\n",
    "      # Pick an offset within the training data, which has been randomized.\n",
    "      # Note: we could use better randomization across epochs.\n",
    "      offset = (step * batch_size) % (train_labels.shape[0] - batch_size)\n",
    "      # Generate a minibatch.\n",
    "      batch_data = train_dataset[offset:(offset + batch_size), :]\n",
    "      batch_labels = train_labels[offset:(offset + batch_size), :]\n",
    "      # Prepare a dictionary telling the session where to feed the minibatch.\n",
    "      # The key of the dictionary is the placeholder node of the graph to be fed,\n",
    "      # and the value is the numpy array to feed to it.\n",
    "      feed_dict = {tf_train_dataset : batch_data, tf_train_labels : batch_labels}\n",
    "      _, l, predictions = session.run(\n",
    "        [optimizer, loss, train_prediction], feed_dict=feed_dict)\n",
    "      if (step % 500 == 0):\n",
    "        print (\"Minibatch loss at step\", step, \":\", l)\n",
    "        print (\"Minibatch accuracy: %.1f%%\" % accuracy(predictions, batch_labels))\n",
    "        print (\"Validation accuracy: %.1f%%\" % accuracy(\n",
    "          valid_prediction.eval(), valid_labels))\n",
    "    print (\"Test accuracy: %.1f%%\" % accuracy(test_prediction.eval(), test_labels))\n",
    "\n",
    "train(1001, 128)"
   ]
  },
  {
   "cell_type": "markdown",
   "metadata": {
    "colab_type": "text",
    "id": "na8xX2yHZzNF"
   },
   "source": [
    "---\n",
    "Problem 2\n",
    "---------\n",
    "Let's demonstrate an extreme case of overfitting. Restrict your training data to just a few batches. What happens?\n",
    "\n",
    "---"
   ]
  },
  {
   "cell_type": "code",
   "execution_count": 6,
   "metadata": {
    "collapsed": false
   },
   "outputs": [
    {
     "name": "stdout",
     "output_type": "stream",
     "text": [
      "Initialized\n",
      "Minibatch loss at step 0 : 21.9085\n",
      "Minibatch accuracy: 10.2%\n",
      "Validation accuracy: 14.2%\n",
      "Minibatch loss at step 500 : 3.61914\n",
      "Minibatch accuracy: 70.3%\n",
      "Validation accuracy: 75.3%\n",
      "Minibatch loss at step 1000 : 1.80304\n",
      "Minibatch accuracy: 74.2%\n",
      "Validation accuracy: 78.3%\n",
      "Minibatch loss at step 1500 : 1.14808\n",
      "Minibatch accuracy: 78.9%\n",
      "Validation accuracy: 79.4%\n",
      "Minibatch loss at step 2000 : 0.943473\n",
      "Minibatch accuracy: 83.6%\n",
      "Validation accuracy: 80.8%\n",
      "Minibatch loss at step 2500 : 0.81129\n",
      "Minibatch accuracy: 83.6%\n",
      "Validation accuracy: 81.9%\n",
      "Minibatch loss at step 3000 : 1.02933\n",
      "Minibatch accuracy: 77.3%\n",
      "Validation accuracy: 81.2%\n",
      "Test accuracy: 87.9%\n"
     ]
    }
   ],
   "source": [
    "train(3001, 128)"
   ]
  },
  {
   "cell_type": "markdown",
   "metadata": {
    "colab_type": "text",
    "id": "ww3SCBUdlkRc"
   },
   "source": [
    "---\n",
    "Problem 3\n",
    "---------\n",
    "Introduce Dropout on the hidden layer of the neural network. Remember: Dropout should only be introduced during training, not evaluation, otherwise your evaluation results would be stochastic as well. TensorFlow provides `nn.dropout()` for that, but you have to make sure it's only inserted during training.\n",
    "\n",
    "What happens to our extreme overfitting case?\n",
    "\n",
    "---"
   ]
  },
  {
   "cell_type": "code",
   "execution_count": 7,
   "metadata": {
    "collapsed": false
   },
   "outputs": [
    {
     "name": "stdout",
     "output_type": "stream",
     "text": [
      "Initialized\n",
      "Minibatch loss at step 0 : 669.873\n",
      "Minibatch accuracy: 10.2%\n",
      "Validation accuracy: 12.8%\n",
      "Minibatch loss at step 500 : 127.1\n",
      "Minibatch accuracy: 65.6%\n",
      "Validation accuracy: 80.9%\n",
      "Minibatch loss at step 1000 : 90.2401\n",
      "Minibatch accuracy: 71.1%\n",
      "Validation accuracy: 82.0%\n",
      "Minibatch loss at step 1500 : 63.5217\n",
      "Minibatch accuracy: 75.8%\n",
      "Validation accuracy: 82.6%\n",
      "Minibatch loss at step 2000 : 47.9128\n",
      "Minibatch accuracy: 73.4%\n",
      "Validation accuracy: 83.1%\n",
      "Minibatch loss at step 2500 : 46.3002\n",
      "Minibatch accuracy: 70.3%\n",
      "Validation accuracy: 83.2%\n",
      "Minibatch loss at step 3000 : 48.2504\n",
      "Minibatch accuracy: 75.0%\n",
      "Validation accuracy: 83.3%\n",
      "Test accuracy: 89.9%\n"
     ]
    }
   ],
   "source": [
    "def oneLayer():\n",
    "    \n",
    "  batch_size = 128\n",
    "  hidden_nodes = 1024\n",
    "  graph = tf.Graph()\n",
    "  with graph.as_default():\n",
    "\n",
    "      # Input data. For the training data, we use a placeholder that will be fed\n",
    "      # at run time with a training minibatch.\n",
    "      tf_train_dataset = tf.placeholder(tf.float32,shape=(batch_size, image_size * image_size))\n",
    "      tf_train_labels = tf.placeholder(tf.float32, shape=(batch_size, num_labels))\n",
    "      tf_valid_dataset = tf.constant(valid_dataset)\n",
    "      tf_test_dataset = tf.constant(test_dataset)\n",
    "      dropout_p = tf.placeholder(tf.float32)\n",
    "\n",
    "      # Hidden Layer, Variables.\n",
    "      weight1 = tf.Variable(tf.truncated_normal([image_size * image_size, hidden_nodes]))\n",
    "      bias1 = tf.Variable(tf.zeros([hidden_nodes]))\n",
    "\n",
    "      weight_hidden = tf.Variable(tf.truncated_normal([hidden_nodes, num_labels]))\n",
    "      bias_hidden = tf.Variable(tf.zeros([num_labels]))\n",
    "\n",
    "\n",
    "      # Define computation and predictions # Train\n",
    "      first_layer = tf.add(tf.matmul(tf_train_dataset, weight1), bias1)\n",
    "      relu_layer = tf.nn.relu(first_layer)\n",
    "      dropout_layer = tf.nn.dropout(relu_layer, dropout_p)\n",
    "      second_layer = tf.add(tf.matmul(dropout_layer, weight_hidden), bias_hidden)\n",
    "      loss = tf.reduce_mean(tf.nn.softmax_cross_entropy_with_logits(second_layer, tf_train_labels))\n",
    "      train_prediction = tf.nn.softmax(second_layer)\n",
    "\n",
    "      # Valid\n",
    "      v_first_layer = tf.add(tf.matmul(tf_valid_dataset, weight1), bias1)\n",
    "      v_relu_layer = tf.nn.relu(v_first_layer)\n",
    "      v_second_layer = tf.add(tf.matmul(v_relu_layer, weight_hidden), bias_hidden)\n",
    "      valid_prediction = tf.nn.softmax(v_second_layer)\n",
    "\n",
    "        # Test\n",
    "      t_first_layer = tf.add(tf.matmul(tf_test_dataset, weight1), bias1)\n",
    "      t_relu_layer = tf.nn.relu(t_first_layer)\n",
    "      t_second_layer = tf.add(tf.matmul(t_relu_layer, weight_hidden), bias_hidden)\n",
    "      test_prediction = tf.nn.softmax(t_second_layer)\n",
    "\n",
    "        # Optimizer.\n",
    "      optimizer = tf.train.GradientDescentOptimizer(0.01).minimize(loss)\n",
    "\n",
    "    \n",
    "#train\n",
    "  num_steps = 3001\n",
    "  with tf.Session(graph=graph) as session:\n",
    "      tf.initialize_all_variables().run()\n",
    "      print (\"Initialized\")\n",
    "      for step in xrange(num_steps):\n",
    "          # Pick an offset within the training data, which has been randomized.\n",
    "          # Note: we could use better randomization across epochs.\n",
    "          offset = (step * batch_size) % (train_labels.shape[0] - batch_size)\n",
    "          # Generate a minibatch.\n",
    "          batch_data = train_dataset[offset:(offset + batch_size), :]\n",
    "          batch_labels = train_labels[offset:(offset + batch_size), :]\n",
    "          # Prepare a dictionary telling the session where to feed the minibatch.\n",
    "          # The key of the dictionary is the placeholder node of the graph to be fed,\n",
    "          # and the value is the numpy array to feed to it.\n",
    "          feed_dict = {tf_train_dataset : batch_data, tf_train_labels : batch_labels, dropout_p : 0.3}\n",
    "          _, l, predictions = session.run(\n",
    "            [optimizer, loss, train_prediction], feed_dict=feed_dict)\n",
    "          if (step % 500 == 0):\n",
    "            print (\"Minibatch loss at step\", step, \":\", l)\n",
    "            print (\"Minibatch accuracy: %.1f%%\" % accuracy(predictions, batch_labels))\n",
    "            print (\"Validation accuracy: %.1f%%\" % accuracy(\n",
    "              valid_prediction.eval(), valid_labels))\n",
    "      print (\"Test accuracy: %.1f%%\" % accuracy(test_prediction.eval(), test_labels))\n",
    "\n",
    "oneLayer()"
   ]
  },
  {
   "cell_type": "markdown",
   "metadata": {
    "colab_type": "text",
    "id": "-b1hTz3VWZjw"
   },
   "source": [
    "---\n",
    "Problem 4\n",
    "---------\n",
    "\n",
    "Try to get the best performance you can using a multi-layer model! The best reported test accuracy using a deep network is [97.1%](http://yaroslavvb.blogspot.com/2011/09/notmnist-dataset.html?showComment=1391023266211#c8758720086795711595).\n",
    "\n",
    "One avenue you can explore is to add multiple layers.\n",
    "\n",
    "Another one is to use learning rate decay:\n",
    "\n",
    "    global_step = tf.Variable(0)  # count the number of steps taken.\n",
    "    learning_rate = tf.train.exponential_decay(0.5, global_step, ...)\n",
    "    optimizer = tf.train.GradientDescentOptimizer(learning_rate).minimize(loss, global_step=global_step)\n",
    " \n",
    " ---\n"
   ]
  },
  {
   "cell_type": "code",
   "execution_count": 9,
   "metadata": {
    "collapsed": false
   },
   "outputs": [
    {
     "name": "stdout",
     "output_type": "stream",
     "text": [
      "Initialized\n",
      "Minibatch loss at step 0 : 4.37957\n",
      "Minibatch accuracy: 4.7%\n",
      "Validation accuracy: 9.0%\n",
      "Minibatch loss at step 500 : 2.86533\n",
      "Minibatch accuracy: 74.2%\n",
      "Validation accuracy: 80.7%\n",
      "Minibatch loss at step 1000 : 2.73522\n",
      "Minibatch accuracy: 78.1%\n",
      "Validation accuracy: 82.0%\n",
      "Minibatch loss at step 1500 : 2.54168\n",
      "Minibatch accuracy: 83.6%\n",
      "Validation accuracy: 82.7%\n",
      "Minibatch loss at step 2000 : 2.53696\n",
      "Minibatch accuracy: 84.4%\n",
      "Validation accuracy: 82.8%\n",
      "Minibatch loss at step 2500 : 2.6158\n",
      "Minibatch accuracy: 81.2%\n",
      "Validation accuracy: 83.0%\n",
      "Minibatch loss at step 3000 : 2.77044\n",
      "Minibatch accuracy: 75.8%\n",
      "Validation accuracy: 83.2%\n",
      "Minibatch loss at step 3500 : 2.51285\n",
      "Minibatch accuracy: 83.6%\n",
      "Validation accuracy: 83.4%\n",
      "Minibatch loss at step 4000 : 2.67509\n",
      "Minibatch accuracy: 79.7%\n",
      "Validation accuracy: 83.5%\n",
      "Minibatch loss at step 4500 : 2.53016\n",
      "Minibatch accuracy: 84.4%\n",
      "Validation accuracy: 83.5%\n",
      "Minibatch loss at step 5000 : 2.62324\n",
      "Minibatch accuracy: 80.5%\n",
      "Validation accuracy: 83.6%\n",
      "Minibatch loss at step 5500 : 2.68043\n",
      "Minibatch accuracy: 80.5%\n",
      "Validation accuracy: 83.7%\n",
      "Minibatch loss at step 6000 : 2.41342\n",
      "Minibatch accuracy: 85.9%\n",
      "Validation accuracy: 83.6%\n",
      "Minibatch loss at step 6500 : 2.34698\n",
      "Minibatch accuracy: 91.4%\n",
      "Validation accuracy: 83.7%\n",
      "Minibatch loss at step 7000 : 2.42534\n",
      "Minibatch accuracy: 85.2%\n",
      "Validation accuracy: 83.7%\n",
      "Minibatch loss at step 7500 : 2.51934\n",
      "Minibatch accuracy: 82.8%\n",
      "Validation accuracy: 83.7%\n",
      "Minibatch loss at step 8000 : 2.59397\n",
      "Minibatch accuracy: 80.5%\n",
      "Validation accuracy: 83.7%\n",
      "Minibatch loss at step 8500 : 2.48687\n",
      "Minibatch accuracy: 85.9%\n",
      "Validation accuracy: 83.8%\n",
      "Minibatch loss at step 9000 : 2.46031\n",
      "Minibatch accuracy: 85.2%\n",
      "Validation accuracy: 83.7%\n",
      "Minibatch loss at step 9500 : 2.59233\n",
      "Minibatch accuracy: 78.9%\n",
      "Validation accuracy: 83.7%\n",
      "Minibatch loss at step 10000 : 2.55924\n",
      "Minibatch accuracy: 84.4%\n",
      "Validation accuracy: 83.8%\n",
      "Minibatch loss at step 10500 : 2.56301\n",
      "Minibatch accuracy: 82.8%\n",
      "Validation accuracy: 83.8%\n",
      "Minibatch loss at step 11000 : 2.43814\n",
      "Minibatch accuracy: 89.1%\n",
      "Validation accuracy: 83.8%\n",
      "Minibatch loss at step 11500 : 2.56155\n",
      "Minibatch accuracy: 82.0%\n",
      "Validation accuracy: 83.8%\n",
      "Minibatch loss at step 12000 : 2.53903\n",
      "Minibatch accuracy: 85.9%\n",
      "Validation accuracy: 83.8%\n",
      "Test accuracy: 89.9%\n"
     ]
    }
   ],
   "source": [
    "def deepLayer():\n",
    "  num_steps = 12001  # Need to increase the steps for better accuracy\n",
    "  batch_size = 128\n",
    "  hidden_nodes = 2048\n",
    "  graph = tf.Graph()\n",
    "  with graph.as_default():\n",
    "\n",
    "      # Input data. For the training data, we use a placeholder that will be fed\n",
    "      # at run time with a training minibatch.\n",
    "      tf_train_dataset = tf.placeholder(tf.float32,shape=(batch_size, image_size * image_size))\n",
    "      tf_train_labels = tf.placeholder(tf.float32, shape=(batch_size, num_labels))\n",
    "      tf_valid_dataset = tf.constant(valid_dataset)\n",
    "      tf_test_dataset = tf.constant(test_dataset)\n",
    "      dropout_p1 = tf.placeholder(tf.float32)\n",
    "      dropout_p2 = tf.placeholder(tf.float32)\n",
    "\n",
    "      # Hidden Layer, Variables.\n",
    "      weight1 = tf.Variable(tf.truncated_normal([image_size * image_size, hidden_nodes], stddev=0.03))\n",
    "      bias1 = tf.Variable(tf.zeros([hidden_nodes]))\n",
    "\n",
    "      weight_hidden1 = tf.Variable(tf.truncated_normal([hidden_nodes, hidden_nodes], stddev=0.03))\n",
    "      bias_hidden1 = tf.Variable(tf.zeros([hidden_nodes]))\n",
    "      \n",
    "      weight2 = tf.Variable(tf.truncated_normal([hidden_nodes, num_labels], stddev=0.03))\n",
    "      bias2 = tf.Variable(tf.zeros([num_labels]))\n",
    "\n",
    "\n",
    "      # Define computation and predictions # Train\n",
    "      first_layer = tf.add(tf.matmul(tf_train_dataset, weight1), bias1)\n",
    "      relu_layer1 = tf.nn.relu(first_layer)\n",
    "      dropout_layer1 = tf.nn.dropout(relu_layer1, dropout_p1)\n",
    "      l2_loss_1 = tf.nn.l2_loss(weight1) + tf.nn.l2_loss(bias1)\n",
    "    \n",
    "      \n",
    "      second_layer = tf.add(tf.matmul(dropout_layer1, weight_hidden1), bias_hidden1)\n",
    "      relu_layer2 = tf.nn.relu(second_layer)\n",
    "      dropout_layer2 = tf.nn.dropout(relu_layer2, dropout_p2)\n",
    "      l2_loss_2 = tf.nn.l2_loss(weight_hidden1) + tf.nn.l2_loss(bias_hidden1)\n",
    "        \n",
    "      out = tf.add(tf.matmul(dropout_layer2, weight2), bias2)\n",
    "      l2_loss_3 = tf.nn.l2_loss(weight2) + tf.nn.l2_loss(bias2)\n",
    "        \n",
    "      # Regularization\n",
    "      regularization = l2_loss_1 + l2_loss_2 + l2_loss_3\n",
    "        \n",
    "      loss = tf.reduce_mean(tf.nn.softmax_cross_entropy_with_logits(out, tf_train_labels))+ 0.001 * regularization\n",
    "      train_prediction = tf.nn.softmax(out)\n",
    "\n",
    "      # Valid\n",
    "      v_first_layer = tf.add(tf.matmul(tf_valid_dataset, weight1), bias1)\n",
    "      v_relu_layer1 = tf.nn.relu(v_first_layer)\n",
    "        \n",
    "      v_second_layer = tf.add(tf.matmul(v_relu_layer1, weight_hidden1), bias_hidden1)\n",
    "      v_relu_layer2 = tf.nn.relu(v_second_layer)\n",
    "    \n",
    "      v_out = tf.add(tf.matmul(v_relu_layer2, weight2), bias2)\n",
    "      valid_prediction = tf.nn.softmax(v_out)\n",
    "      \n",
    "\n",
    "        # Test\n",
    "      t_first_layer = tf.add(tf.matmul(tf_test_dataset, weight1), bias1)\n",
    "      t_relu_layer1 = tf.nn.relu(t_first_layer)\n",
    "        \n",
    "      t_second_layer = tf.add(tf.matmul(t_relu_layer1, weight_hidden1), bias_hidden1)\n",
    "      t_relu_layer2 = tf.nn.relu(t_second_layer)\n",
    "        \n",
    "      t_out = tf.add(tf.matmul(t_relu_layer2, weight2), bias2)\n",
    "      test_prediction = tf.nn.softmax(t_out)\n",
    "\n",
    "        # Optimizer.\n",
    "      batch = tf.Variable(0)\n",
    "      learning_rate = tf.train.exponential_decay(0.01,                # Base learning rate.\n",
    "                      batch * batch_size,  # Current index into the dataset.\n",
    "                      num_steps,          # Decay step.\n",
    "                      0.95,                # Decay rate.\n",
    "                      staircase=True)\n",
    "        # Use simple momentum for the optimization.\n",
    "      optimizer = tf.train.GradientDescentOptimizer(learning_rate,\n",
    "                                     ).minimize(loss,\n",
    "                                                   global_step=batch)\n",
    "      #optimizer = tf.train.GradientDescentOptimizer(0.01).minimize(loss)\n",
    "\n",
    "    \n",
    "#train\n",
    "  \n",
    "  with tf.Session(graph=graph) as session:\n",
    "      tf.initialize_all_variables().run()\n",
    "      print (\"Initialized\")\n",
    "      for step in xrange(num_steps):\n",
    "          # Pick an offset within the training data, which has been randomized.\n",
    "          # Note: we could use better randomization across epochs.\n",
    "          offset = (step * batch_size) % (train_labels.shape[0] - batch_size)\n",
    "          # Generate a minibatch.\n",
    "          batch_data = train_dataset[offset:(offset + batch_size), :]\n",
    "          batch_labels = train_labels[offset:(offset + batch_size), :]\n",
    "          # Prepare a dictionary telling the session where to feed the minibatch.\n",
    "          # The key of the dictionary is the placeholder node of the graph to be fed,\n",
    "          # and the value is the numpy array to feed to it.\n",
    "          feed_dict = {tf_train_dataset : batch_data, tf_train_labels : batch_labels, dropout_p1 : 0.75, dropout_p2: 0.9}\n",
    "          _, l, predictions = session.run(\n",
    "            [optimizer, loss, train_prediction], feed_dict=feed_dict)\n",
    "          if (step % 500 == 0):\n",
    "            print (\"Minibatch loss at step\", step, \":\", l)\n",
    "            print (\"Minibatch accuracy: %.1f%%\" % accuracy(predictions, batch_labels))\n",
    "            print (\"Validation accuracy: %.1f%%\" % accuracy(\n",
    "              valid_prediction.eval(), valid_labels))\n",
    "      print (\"Test accuracy: %.1f%%\" % accuracy(test_prediction.eval(), test_labels))\n",
    "\n",
    "deepLayer()"
   ]
  },
  {
   "cell_type": "code",
   "execution_count": null,
   "metadata": {
    "collapsed": true
   },
   "outputs": [],
   "source": []
  }
 ],
 "metadata": {
  "colab": {
   "default_view": {},
   "name": "3_regularization.ipynb",
   "provenance": [],
   "version": "0.3.2",
   "views": {}
  },
  "kernelspec": {
   "display_name": "Python 2",
   "language": "python",
   "name": "python2"
  },
  "language_info": {
   "codemirror_mode": {
    "name": "ipython",
    "version": 2
   },
   "file_extension": ".py",
   "mimetype": "text/x-python",
   "name": "python",
   "nbconvert_exporter": "python",
   "pygments_lexer": "ipython2",
   "version": "2.7.6"
  }
 },
 "nbformat": 4,
 "nbformat_minor": 0
}
